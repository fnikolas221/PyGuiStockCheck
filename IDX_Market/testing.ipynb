{
 "cells": [
  {
   "cell_type": "markdown",
   "metadata": {},
   "source": [
    "## Code Testing"
   ]
  },
  {
   "cell_type": "code",
   "execution_count": 33,
   "metadata": {},
   "outputs": [
    {
     "name": "stderr",
     "output_type": "stream",
     "text": [
      "/usr/lib/python3/dist-packages/requests/__init__.py:89: RequestsDependencyWarning: urllib3 (1.26.7) or chardet (3.0.4) doesn't match a supported version!\n",
      "  warnings.warn(\"urllib3 ({}) or chardet ({}) doesn't match a supported \"\n"
     ]
    }
   ],
   "source": [
    "import pathlib\n",
    "import os\n",
    "import undetected_chromedriver as uc\n",
    "from selenium import  webdriver\n",
    "from bs4 import BeautifulSoup as soup\n",
    "\n",
    "PATH = str(pathlib.Path(__name__).parent.resolve())\n",
    "DRIVERPATH = PATH+'/chrome95/linux/chromedriver'\n",
    "FILEPATH = PATH + '/output/'\n",
    "\n",
    "s =webdriver.chrome.service.Service(DRIVERPATH)"
   ]
  },
  {
   "cell_type": "code",
   "execution_count": null,
   "metadata": {},
   "outputs": [],
   "source": [
    "\n",
    "from selenium import webdriver\n",
    "\n",
    "Service = webdriver.chrome.service.Service\n",
    "\n",
    "\n",
    "PATH += '/chrome95/linux/chromedriver'\n",
    "\n",
    "s = Service(PATH)\n",
    "driver = webdriver.Chrome(service=s)"
   ]
  },
  {
   "cell_type": "markdown",
   "metadata": {},
   "source": [
    "## Grabber Alternative \n",
    "**With DIRECT API**\n",
    "\n",
    "Source [here](https://github.com/wildangunawan/IDX-Scrapper) by : wildagunawan"
   ]
  },
  {
   "cell_type": "code",
   "execution_count": 9,
   "metadata": {},
   "outputs": [],
   "source": [
    "#Get list emiten\n",
    "\n",
    "\n",
    "import json\n",
    "def openfile(mode,data=''):\n",
    "     with open(FILEPATH+'emiten.json',mode) as file:\n",
    "          if mode == 'w':\n",
    "               json.dump(eval(data),file)\n",
    "          else:\n",
    "               return json.load(file)\n",
    "               \n",
    "def request_data():\n",
    "     link = f\"https://idx.co.id/umbraco/Surface/StockData/GetSecuritiesStock?code=&sector=&board=&start={0}&length={5000}\"\n",
    "\n",
    "     \n",
    "     browser = webdriver.Chrome(service=s)\n",
    "     browser.get(link)\n",
    "     browser.close()\n",
    "\n",
    "     hasil = browser.page_source\n",
    "     html = soup(hasil,'html.parser')\n",
    "\n",
    "\n",
    "     openfile('w',html.find('pre').text)\n",
    "\n",
    "try:\n",
    "     hasil = openfile('r')\n",
    "except:\n",
    "     request_data()\n"
   ]
  },
  {
   "cell_type": "markdown",
   "metadata": {},
   "source": [
    "## Request data from emiten"
   ]
  },
  {
   "cell_type": "code",
   "execution_count": 36,
   "metadata": {},
   "outputs": [
    {
     "ename": "AttributeError",
     "evalue": "'NoneType' object has no attribute 'text'",
     "output_type": "error",
     "traceback": [
      "\u001b[0;31m---------------------------------------------------------------------------\u001b[0m",
      "\u001b[0;31mAttributeError\u001b[0m                            Traceback (most recent call last)",
      "\u001b[0;32m/tmp/ipykernel_128931/2550703862.py\u001b[0m in \u001b[0;36m<module>\u001b[0;34m\u001b[0m\n\u001b[1;32m     33\u001b[0m     \u001b[0mlink\u001b[0m \u001b[0;34m=\u001b[0m \u001b[0;34mf\"https://idx.co.id/umbraco/Surface/ListedCompany/GetTradingInfoSS?code={c['Code']}&length=1\"\u001b[0m\u001b[0;34m\u001b[0m\u001b[0;34m\u001b[0m\u001b[0m\n\u001b[1;32m     34\u001b[0m     \u001b[0mdriver\u001b[0m\u001b[0;34m.\u001b[0m\u001b[0mget\u001b[0m\u001b[0;34m(\u001b[0m\u001b[0mlink\u001b[0m\u001b[0;34m)\u001b[0m\u001b[0;34m\u001b[0m\u001b[0;34m\u001b[0m\u001b[0m\n\u001b[0;32m---> 35\u001b[0;31m     \u001b[0mstore_emiten_data_harian\u001b[0m\u001b[0;34m(\u001b[0m\u001b[0mkode\u001b[0m\u001b[0;34m,\u001b[0m\u001b[0mdriver\u001b[0m\u001b[0;34m)\u001b[0m\u001b[0;34m\u001b[0m\u001b[0;34m\u001b[0m\u001b[0m\n\u001b[0m\u001b[1;32m     36\u001b[0m \u001b[0;34m\u001b[0m\u001b[0m\n\u001b[1;32m     37\u001b[0m \u001b[0;34m\u001b[0m\u001b[0m\n",
      "\u001b[0;32m/tmp/ipykernel_128931/2550703862.py\u001b[0m in \u001b[0;36mstore_emiten_data_harian\u001b[0;34m(kode, response)\u001b[0m\n\u001b[1;32m      9\u001b[0m     \u001b[0mhasil\u001b[0m \u001b[0;34m=\u001b[0m \u001b[0mresponse\u001b[0m\u001b[0;34m.\u001b[0m\u001b[0mpage_source\u001b[0m\u001b[0;34m\u001b[0m\u001b[0;34m\u001b[0m\u001b[0m\n\u001b[1;32m     10\u001b[0m     \u001b[0mhasil\u001b[0m \u001b[0;34m=\u001b[0m \u001b[0msoup\u001b[0m\u001b[0;34m(\u001b[0m\u001b[0mhasil\u001b[0m\u001b[0;34m,\u001b[0m\u001b[0;34m'html.parser'\u001b[0m\u001b[0;34m)\u001b[0m\u001b[0;34m\u001b[0m\u001b[0;34m\u001b[0m\u001b[0m\n\u001b[0;32m---> 11\u001b[0;31m     \u001b[0mhasil\u001b[0m \u001b[0;34m=\u001b[0m \u001b[0mhasil\u001b[0m\u001b[0;34m.\u001b[0m\u001b[0mfind\u001b[0m\u001b[0;34m(\u001b[0m\u001b[0;34m'pre'\u001b[0m\u001b[0;34m)\u001b[0m\u001b[0;34m.\u001b[0m\u001b[0mtext\u001b[0m\u001b[0;34m\u001b[0m\u001b[0;34m\u001b[0m\u001b[0m\n\u001b[0m\u001b[1;32m     12\u001b[0m     \u001b[0mhasil\u001b[0m \u001b[0;34m=\u001b[0m \u001b[0meval\u001b[0m\u001b[0;34m(\u001b[0m\u001b[0mhasil\u001b[0m\u001b[0;34m)\u001b[0m\u001b[0;34m\u001b[0m\u001b[0;34m\u001b[0m\u001b[0m\n\u001b[1;32m     13\u001b[0m \u001b[0;34m\u001b[0m\u001b[0m\n",
      "\u001b[0;31mAttributeError\u001b[0m: 'NoneType' object has no attribute 'text'"
     ]
    }
   ],
   "source": [
    "import pandas as pd\n",
    "from time import sleep\n",
    "options = webdriver.ChromeOptions() \n",
    "options.add_argument(\"start-maximized\")\n",
    "\n",
    "data = {}\n",
    "EXCELPATH = FILEPATH+'emitenhariini.csv'\n",
    "def store_emiten_data_harian(kode,response):\n",
    "    hasil = response.page_source\n",
    "    hasil = soup(hasil,'html.parser')\n",
    "    hasil = hasil.find('pre').text\n",
    "    hasil = eval(hasil)\n",
    "    \n",
    "    if len(data)==0:\n",
    "        data[\"Kode\"] = [kode]\n",
    "        for key,res in hasil['replies'][0].items():\n",
    "            data[key]= [[res]]\n",
    "    else:\n",
    "        data[\"Kode\"].append(kode)\n",
    "        for key in data.keys():\n",
    "            try:\n",
    "                data[key].append(hasil['replies'][0][key])\n",
    "            except:\n",
    "                data[key].append(\"\")\n",
    "\n",
    "options = webdriver.ChromeOptions() \n",
    "options.add_argument(\"start-maximized\")\n",
    "driver = uc.Chrome(service=s,options=options)\n",
    "\n",
    "for c in hasil['data']:\n",
    "\n",
    "    kode = c[\"Code\"]\n",
    "    link = f\"https://idx.co.id/umbraco/Surface/ListedCompany/GetTradingInfoSS?code={c['Code']}&length=1\"\n",
    "    driver.get(link)\n",
    "    store_emiten_data_harian(kode,driver)\n",
    "        \n",
    "    \n",
    "\n",
    "        \n",
    "    \n",
    "with open(FILEPATH+'emiten_harian.json','w') as file:\n",
    "    json.dump(data,file)\n",
    "\n",
    "dataframe = pd.DataFrame()\n"
   ]
  },
  {
   "cell_type": "code",
   "execution_count": 13,
   "metadata": {},
   "outputs": [
    {
     "data": {
      "text/plain": [
       "dict_keys([1])"
      ]
     },
     "execution_count": 13,
     "metadata": {},
     "output_type": "execute_result"
    }
   ],
   "source": [
    "data = {1:1}\n",
    "data.keys()"
   ]
  }
 ],
 "metadata": {
  "interpreter": {
   "hash": "31f2aee4e71d21fbe5cf8b01ff0e069b9275f58929596ceb00d14d90e3e16cd6"
  },
  "kernelspec": {
   "display_name": "Python 3.8.10 64-bit",
   "name": "python3"
  },
  "language_info": {
   "codemirror_mode": {
    "name": "ipython",
    "version": 3
   },
   "file_extension": ".py",
   "mimetype": "text/x-python",
   "name": "python",
   "nbconvert_exporter": "python",
   "pygments_lexer": "ipython3",
   "version": "3.8.10"
  },
  "orig_nbformat": 4
 },
 "nbformat": 4,
 "nbformat_minor": 2
}
